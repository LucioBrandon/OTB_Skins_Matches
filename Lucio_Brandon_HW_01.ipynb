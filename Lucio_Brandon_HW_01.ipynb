{
 "cells": [
  {
   "cell_type": "markdown",
   "metadata": {},
   "source": [
    "## Homework 01 Introduction & Python Basics \n",
    "\n",
    "(A total of 5 credit points, Problem 1-6 each with 0.5 point, Problem 7 with 1.5 points, Survay with 0.5 point.)\n",
    "\n",
    "Homework is due 9/4/2021 Sat 11:59pm\n",
    "### *please submit the final code to Blackboard, acceptable format: `.ipynb` only*"
   ]
  },
  {
   "cell_type": "markdown",
   "metadata": {},
   "source": [
    "Your homework assignment is a Jupyter Notebook. Contact the instructor *david.guo@utsa.edu* if you still need help to install Anaconda or run Jupyter Notebook. \n",
    "\n",
    "Some questions require you to write code to output the required result. Please replace the statement of \"provide your answer here\" with your code. There is no lines limit of your solution code. But the shorter the better.   \n",
    "\n",
    "Make sure you test your code by hitting the \"Run\" in the tool bar and see the expected results to get full credit. You are encourage to comment your code with \"# your comment\" in the cell or insert Markdown cells above the cell. \n",
    "\n",
    "When you're done with your assignment, go to \"Kernel\" in the main menu and click \"Restart & Run All\" to ensure all your code can be run end to end without any error, and the results/outputs are successfully displayed as instructed or implied. \n",
    "\n",
    "The last part of this file is a 5-question survey to help me know you well and improve the learning experience\n",
    "\n",
    "Finally you can save the file as \"lastname_firstname_HW_01.ipynb\" before you submit it in BB."
   ]
  },
  {
   "cell_type": "markdown",
   "metadata": {},
   "source": [
    "## Problem 1: Simple indexing and list functions (0.5% point)\n",
    "There is a list of numbers assigned to a variable `number_list` in the code below that has been assigned a list of numbers. Run this cell before filling in the answers below."
   ]
  },
  {
   "cell_type": "code",
   "execution_count": 1,
   "metadata": {},
   "outputs": [],
   "source": [
    "number_list = [-13, 5, 12, 17, 20, 0]"
   ]
  },
  {
   "cell_type": "markdown",
   "metadata": {},
   "source": [
    "Write an expression in the cell below using square bracket index notation to get the 4th element of `number_list`, that is,  the number `17`, and display/print the result."
   ]
  },
  {
   "cell_type": "code",
   "execution_count": 2,
   "metadata": {},
   "outputs": [
    {
     "data": {
      "text/plain": [
       "17"
      ]
     },
     "execution_count": 2,
     "metadata": {},
     "output_type": "execute_result"
    }
   ],
   "source": [
    "# In python, indexing starts at 0\n",
    "number_list[3]"
   ]
  },
  {
   "cell_type": "markdown",
   "metadata": {},
   "source": [
    "Now write an expression that check the total number of items in the list (the right answer should be: 6). hint: using the function \"len()\""
   ]
  },
  {
   "cell_type": "code",
   "execution_count": 3,
   "metadata": {},
   "outputs": [
    {
     "data": {
      "text/plain": [
       "6"
      ]
     },
     "execution_count": 3,
     "metadata": {},
     "output_type": "execute_result"
    }
   ],
   "source": [
    "len(number_list)"
   ]
  },
  {
   "cell_type": "markdown",
   "metadata": {},
   "source": [
    "The following expression:\n",
    "```python \n",
    "max(number_list)\n",
    "```\n",
    "... will print the largest value in number_list (i.e., 20). What value should be the variable index 'idx' in the code below so that the expression\n",
    "```python \n",
    "sorted(number_list)[idx]\n",
    "```\n",
    "... does the same thing. (i.e., when you run the cell, it should display 20.)  \n",
    "hint: there are more than 1 solution, but `idx` could be a **negative** integer."
   ]
  },
  {
   "cell_type": "code",
   "execution_count": 4,
   "metadata": {},
   "outputs": [
    {
     "data": {
      "text/plain": [
       "20"
      ]
     },
     "execution_count": 4,
     "metadata": {},
     "output_type": "execute_result"
    }
   ],
   "source": [
    "idx = -1     #A negative index gives the last element of a list\n",
    "sorted(number_list)[idx] \n",
    "# The answer is 20"
   ]
  },
  {
   "cell_type": "markdown",
   "metadata": {},
   "source": [
    "## Problem 2: Slices (0.5 point)\n",
    "Write an expression below that evaluates to a slice of number_list starting with its second element and ending with its fifth element (exclusive). i.e. the output should be [5, 12, 17]."
   ]
  },
  {
   "cell_type": "code",
   "execution_count": 5,
   "metadata": {},
   "outputs": [
    {
     "data": {
      "text/plain": [
       "[5, 12, 17]"
      ]
     },
     "execution_count": 5,
     "metadata": {},
     "output_type": "execute_result"
    }
   ],
   "source": [
    "# Python starts an index at 0, with slicing you have list[start: end] where end is not inclusive\n",
    "number_list[1:4]"
   ]
  },
  {
   "cell_type": "markdown",
   "metadata": {},
   "source": [
    "Write an expression below that evaluates to a slice of number_list starting with its third element and ending at the end of the list. I.e., the output should be [12, 17, 20, 0]."
   ]
  },
  {
   "cell_type": "code",
   "execution_count": 6,
   "metadata": {},
   "outputs": [
    {
     "data": {
      "text/plain": [
       "[12, 17, 20, 0]"
      ]
     },
     "execution_count": 6,
     "metadata": {},
     "output_type": "execute_result"
    }
   ],
   "source": [
    "#Here you can leave the end of the slice blank and python takes this as you wanting to go to the end of the list.\n",
    "number_list[2:]"
   ]
  },
  {
   "cell_type": "markdown",
   "metadata": {},
   "source": [
    "Finally, fill in a value for the variable `idx` below so that the expression below it evaluates to a slice of `number_list` starting at the second last element and ending at the end of the list. The expression should evaluate to [20, 0]. hint: more than 1 solution is available, `idx` could be a **negative** integer."
   ]
  },
  {
   "cell_type": "code",
   "execution_count": 7,
   "metadata": {},
   "outputs": [
    {
     "name": "stdout",
     "output_type": "stream",
     "text": [
      "[20, 0]\n"
     ]
    }
   ],
   "source": [
    "idx = -2 # repalce ? with your answer\n",
    "print (number_list[idx:])"
   ]
  },
  {
   "cell_type": "markdown",
   "metadata": {},
   "source": [
    "## Problem set 3: Comprehensions (0.5 point)\n",
    "Comprehensions is very useful for **List operation** in real life data analysis and modeling tasks."
   ]
  },
  {
   "cell_type": "markdown",
   "metadata": {},
   "source": [
    "As dicussed in the class, the modulo operator, %, returns the remainder of dividion. For example:"
   ]
  },
  {
   "cell_type": "code",
   "execution_count": 8,
   "metadata": {},
   "outputs": [
    {
     "name": "stdout",
     "output_type": "stream",
     "text": [
      "1\n"
     ]
    }
   ],
   "source": [
    "print( 22 % 3)"
   ]
  },
  {
   "cell_type": "markdown",
   "metadata": {},
   "source": [
    "This expression evaluates to 1 because the remainder of dividing 22 by 3 is 1. We then can use the modulo operator to test a number is even if the remainder is zero:"
   ]
  },
  {
   "cell_type": "code",
   "execution_count": 9,
   "metadata": {},
   "outputs": [
    {
     "name": "stdout",
     "output_type": "stream",
     "text": [
      "0\n",
      "1\n"
     ]
    }
   ],
   "source": [
    "print (100 % 2) #100 is an even number\n",
    "print (101 % 2) #101 is not an even number"
   ]
  },
  {
   "cell_type": "code",
   "execution_count": 10,
   "metadata": {},
   "outputs": [],
   "source": [
    "number_list = [-13, 5, 12, 17, 20, 0]"
   ]
  },
  {
   "cell_type": "markdown",
   "metadata": {},
   "source": [
    "Given the above information, write a list comprehension that outputs the elements with even index in `number_list`, such as [-13, 12, 20].   \n",
    "Use the modulo operator in the membership expression of the list comprehension.   \n",
    "The results should be a **list**    \n",
    "Hint: use `if` clause in list comprehesion"
   ]
  },
  {
   "cell_type": "code",
   "execution_count": 11,
   "metadata": {},
   "outputs": [
    {
     "name": "stdout",
     "output_type": "stream",
     "text": [
      "[-13, 12, 20]\n",
      "[-13, 12, 20]\n"
     ]
    }
   ],
   "source": [
    "# for this we can use the fact that python counts 0 as even and go through the list by 2 starting at 0\n",
    "print(number_list[::2])\n",
    "# You can also do this using list comprehension\n",
    "even_index = [index for i, index in enumerate(number_list) if i % 2 == 0]\n",
    "print( even_index )"
   ]
  },
  {
   "cell_type": "markdown",
   "metadata": {},
   "source": [
    "## Problem 4: Splitting strings (0.5 point)\n",
    "In the cell below, a variable `float_str` is set to a string containing a list of floating-point numbers, separated by semicolons (`;`). (Make sure to run this cell before you proceed, so that the variable will be available in subsequent cells.)"
   ]
  },
  {
   "cell_type": "code",
   "execution_count": 12,
   "metadata": {},
   "outputs": [],
   "source": [
    "float_str = \"5.8;6.9;3.1;5.9;6.6;6.5;6.5;5.6;6;6.4;3.3;6.0;6.0;6.3;6.6;6.6\""
   ]
  },
  {
   "cell_type": "markdown",
   "metadata": {},
   "source": [
    "Write an expression below that splits and converts the string into a **`list` of floating**-point numbers. The type of the expression should be list and the type of individual elements in the list should be `float`. The expression should evaluate to something that looks like this:\n",
    "\n",
    "    [5.8, 6.9, 3.1, 5.9, 6.6, 6.5, 6.5, 5.6, 6.0, 6.4, 3.3, 6.0, 6.0, 6.3, 6.6, 6.6]\n",
    "\n",
    "(Hint: you can choose to use the `.split()` method to split the string by separator, then combined with list comprehension)"
   ]
  },
  {
   "cell_type": "code",
   "execution_count": 13,
   "metadata": {},
   "outputs": [
    {
     "data": {
      "text/plain": [
       "[5.8,\n",
       " 6.9,\n",
       " 3.1,\n",
       " 5.9,\n",
       " 6.6,\n",
       " 6.5,\n",
       " 6.5,\n",
       " 5.6,\n",
       " 6.0,\n",
       " 6.4,\n",
       " 3.3,\n",
       " 6.0,\n",
       " 6.0,\n",
       " 6.3,\n",
       " 6.6,\n",
       " 6.6]"
      ]
     },
     "execution_count": 13,
     "metadata": {},
     "output_type": "execute_result"
    }
   ],
   "source": [
    "# Here we cast the string to a float after splitting the original string\n",
    "float_nums = [float(x) for x in float_str.split(';')]\n",
    "float_nums"
   ]
  },
  {
   "cell_type": "markdown",
   "metadata": {},
   "source": [
    "## Problem 5: IF statement (0.5 point)\n",
    "Jenny is trying to write a program for her youth club which asks the user to type in their age.  If the user’s age is between 10 and 14, then they are eligible to be members.  That means, a child who is **10, 11, 12, 13 or 14** can join. If they are not in this age range, they are not eligible to be members. Repalce the '# provide your answer here' with your code."
   ]
  },
  {
   "cell_type": "code",
   "execution_count": 14,
   "metadata": {},
   "outputs": [
    {
     "name": "stdout",
     "output_type": "stream",
     "text": [
      "Enter your age please: 15\n",
      "Sorry, you are not eligible to a member\n"
     ]
    }
   ],
   "source": [
    "#prompt for input \n",
    "age = int(input('Enter your age please: '))\n",
    "# Range method does not include the end element\n",
    "if age in range(10,15):\n",
    "    print('You can join the Youth Club!')\n",
    "else:\n",
    "    print('Sorry, you are not eligible to a member')"
   ]
  },
  {
   "cell_type": "markdown",
   "metadata": {},
   "source": [
    "## Problem 6: Working with strings (0.5 point)\n",
    "In the cell below, there is a list of strings and assigned it to a variable `capitalize_me`."
   ]
  },
  {
   "cell_type": "code",
   "execution_count": 15,
   "metadata": {},
   "outputs": [],
   "source": [
    "capitalize_me = ['an abacus', 'bitter beefsteak', 'comfy culottes']"
   ]
  },
  {
   "cell_type": "markdown",
   "metadata": {},
   "source": [
    "Use the variable `capitalize_me` provided above, in the following blank code cell, write a `list comprehension` program that evaluates to another list, containing copies of these strings with their first letter capitalized. In other words, your filled-in code cell should display this when you run it:\n",
    "\n",
    "    ['An abacus', 'Bitter beefsteak', 'Comfy culottes']\n",
    "\n",
    "Hint: you could use string slices and the `.upper()`, OR `.capitalize()` (or other of your choice) method in your solution."
   ]
  },
  {
   "cell_type": "code",
   "execution_count": 16,
   "metadata": {},
   "outputs": [
    {
     "name": "stdout",
     "output_type": "stream",
     "text": [
      "['An abacus', 'Bitter beefsteak', 'Comfy culottes']\n"
     ]
    }
   ],
   "source": [
    "first_letter_upcase = [x.capitalize() for x in capitalize_me]\n",
    "print( first_letter_upcase)"
   ]
  },
  {
   "cell_type": "markdown",
   "metadata": {},
   "source": [
    "## Problem 7 Define functions (1.5 points)\n",
    "1) Let us define a function `max_of_three()` that takes three numbers as arguments and returns the largest of them."
   ]
  },
  {
   "cell_type": "code",
   "execution_count": 17,
   "metadata": {},
   "outputs": [],
   "source": [
    "def max_of_three(n1,n2,n3):\n",
    "    '''\n",
    "    Returns the largest number of the three provided numbers\n",
    "    '''\n",
    "    return( max( n1, n2, n3 ) )\n",
    "    "
   ]
  },
  {
   "cell_type": "code",
   "execution_count": null,
   "metadata": {},
   "outputs": [],
   "source": []
  },
  {
   "cell_type": "markdown",
   "metadata": {},
   "source": [
    "2- Define a function is_palindrome() that recognizes palindromes (i.e. the reversed order of characters in the word is identical to the order of characters in the word). For example, is_palindrome(\"radar\") should return True. hint: use list() to split a word into a list"
   ]
  },
  {
   "cell_type": "code",
   "execution_count": 18,
   "metadata": {},
   "outputs": [],
   "source": [
    "def is_palindrome(word):\n",
    "    list_word = list(word)\n",
    "    return list_word == list_word[::-1]\n",
    "    "
   ]
  },
  {
   "cell_type": "code",
   "execution_count": 19,
   "metadata": {},
   "outputs": [
    {
     "data": {
      "text/plain": [
       "True"
      ]
     },
     "execution_count": 19,
     "metadata": {},
     "output_type": "execute_result"
    }
   ],
   "source": [
    "is_palindrome('racecar')"
   ]
  },
  {
   "cell_type": "markdown",
   "metadata": {},
   "source": [
    "## Run below 5 survery questions to earn 0.5 point"
   ]
  },
  {
   "cell_type": "code",
   "execution_count": 20,
   "metadata": {},
   "outputs": [
    {
     "name": "stdout",
     "output_type": "stream",
     "text": [
      "How do you feel the pace of the first class? 1:too fast, 2:just fine, 3:too slow :2, for the first class\n"
     ]
    },
    {
     "data": {
      "text/plain": [
       "'2, for the first class'"
      ]
     },
     "execution_count": 20,
     "metadata": {},
     "output_type": "execute_result"
    }
   ],
   "source": [
    "input(\"How do you feel the pace of the first class? 1:too fast, 2:just fine, 3:too slow :\")"
   ]
  },
  {
   "cell_type": "code",
   "execution_count": 21,
   "metadata": {},
   "outputs": [
    {
     "name": "stdout",
     "output_type": "stream",
     "text": [
      "Do you have any coding experience previously on any language? (Yes/No) :Yes, ( Python, R, SAS, Java, C++, and some Julia )\n"
     ]
    },
    {
     "data": {
      "text/plain": [
       "'Yes, ( Python, R, SAS, Java, C++, and some Julia )'"
      ]
     },
     "execution_count": 21,
     "metadata": {},
     "output_type": "execute_result"
    }
   ],
   "source": [
    "input(\"What is your current program and what year you are in? (please briefly describe):\")"
   ]
  },
  {
   "cell_type": "code",
   "execution_count": 22,
   "metadata": {},
   "outputs": [
    {
     "name": "stdout",
     "output_type": "stream",
     "text": [
      "What is your current program and what year you are in? (please briefly describe):2nd year MS Statistics and Data Science\n"
     ]
    },
    {
     "data": {
      "text/plain": [
       "'2nd year MS Statistics and Data Science'"
      ]
     },
     "execution_count": 22,
     "metadata": {},
     "output_type": "execute_result"
    }
   ],
   "source": [
    "input(\"What is your current program and what year you are in? (please briefly describe):\")"
   ]
  },
  {
   "cell_type": "code",
   "execution_count": 23,
   "metadata": {},
   "outputs": [
    {
     "name": "stdout",
     "output_type": "stream",
     "text": [
      "After the first 3 weeks, which kind of class you favor? (Zoom /In-person):Zoom\n"
     ]
    },
    {
     "data": {
      "text/plain": [
       "'Zoom'"
      ]
     },
     "execution_count": 23,
     "metadata": {},
     "output_type": "execute_result"
    }
   ],
   "source": [
    "input(\"After the first 3 weeks, which kind of class you favor? (Zoom /In-person):\")"
   ]
  },
  {
   "cell_type": "code",
   "execution_count": 24,
   "metadata": {},
   "outputs": [
    {
     "name": "stdout",
     "output_type": "stream",
     "text": [
      "What is your expectation on this class? (please briefly describe):Gain a better understanding of the models used/available for real world applications\n"
     ]
    },
    {
     "data": {
      "text/plain": [
       "'Gain a better understanding of the models used/available for real world applications'"
      ]
     },
     "execution_count": 24,
     "metadata": {},
     "output_type": "execute_result"
    }
   ],
   "source": [
    "input('What is your expectation on this class? (please briefly describe):')"
   ]
  },
  {
   "cell_type": "markdown",
   "metadata": {},
   "source": [
    "# Survey Questions \n",
    "1. How do you feel the pace of the first class? 1:too fast, 2:just fine, 3:too slow:\n",
    "   - just fine, for the first class \n",
    "2. What is your current program and what year you are in? (please briefly describe):\n",
    "    - Yes, ( Python, R, SAS, Java, C++, and some Julia )\n",
    "3. What is your current program and what year you are in? (please briefly describe):\n",
    "    - 2nd year MS Statistics and Data Science\n",
    "4. After the first 3 weeks, which kind of class you favor? (Zoom /In-person):\n",
    "    - Zoom\n",
    "5. What is your expectation on this class? (please briefly describe):\n",
    "    - Gain a better understanding of the models used/available for real world applications"
   ]
  },
  {
   "cell_type": "markdown",
   "metadata": {},
   "source": []
  }
 ],
 "metadata": {
  "kernelspec": {
   "display_name": "Python 3",
   "language": "python",
   "name": "python3"
  },
  "language_info": {
   "codemirror_mode": {
    "name": "ipython",
    "version": 3
   },
   "file_extension": ".py",
   "mimetype": "text/x-python",
   "name": "python",
   "nbconvert_exporter": "python",
   "pygments_lexer": "ipython3",
   "version": "3.7.6"
  }
 },
 "nbformat": 4,
 "nbformat_minor": 1
}
