{
 "cells": [
  {
   "cell_type": "markdown",
   "metadata": {},
   "source": [
    "# ECO6973 Homework 02: Numpy \n",
    "(Total 5 points out of 100 points)  \n",
    "Homework 02 is due Friday 9/11/2020 Sunday 11:59pm  (The provided hints are your best friend!)\n",
    "\n",
    "Any question? email me david.guo@utsa.edu, or join course Slack channel if you haven't done that, and post your question there.  \n",
    "Again the Slack link is https://join.slack.com/t/eco6973001utsa/shared_invite/zt-usw3jntt-t~nH5l2L8uCmRlMwhsdtBw \n",
    "\n",
    "**Last but not least: please rename the notebook to \"yourlastname_yourfirstname_HW_02.ipynb\" and submit it to Blackboard.**"
   ]
  },
  {
   "cell_type": "markdown",
   "metadata": {},
   "source": [
    "## Problem 1 Numpy Operations \n",
    "(1 point in total, each sub question has 0.2 point)"
   ]
  },
  {
   "cell_type": "markdown",
   "metadata": {},
   "source": [
    "1-1 First, load/import the `numpy` package and use the name `np` short for it"
   ]
  },
  {
   "cell_type": "code",
   "execution_count": 1,
   "metadata": {},
   "outputs": [],
   "source": [
    "# provide your answer here\n",
    "import numpy as np"
   ]
  },
  {
   "cell_type": "markdown",
   "metadata": {},
   "source": [
    "1-2. Create a vector `Z1` of `0`s of size 10, but mutate/change the **fifth** (or 4 in index) value to 2. print the vector "
   ]
  },
  {
   "cell_type": "code",
   "execution_count": 3,
   "metadata": {},
   "outputs": [
    {
     "name": "stdout",
     "output_type": "stream",
     "text": [
      "[0. 0. 0. 0. 2. 0. 0. 0. 0. 0.]\n"
     ]
    }
   ],
   "source": [
    "Z1 = np.zeros(10)\n",
    "Z1[4] = 2\n",
    "print( Z1 )\n"
   ]
  },
  {
   "cell_type": "code",
   "execution_count": null,
   "metadata": {},
   "outputs": [],
   "source": []
  },
  {
   "cell_type": "markdown",
   "metadata": {},
   "source": [
    "1-3. A vector `Z2` is provided below. Reverse it (first element becomes last) to become a new vector `Z_reverse`"
   ]
  },
  {
   "cell_type": "code",
   "execution_count": 10,
   "metadata": {},
   "outputs": [
    {
     "name": "stdout",
     "output_type": "stream",
     "text": [
      "[49 48 47 46 45 44 43 42 41 40 39 38 37 36 35 34 33 32 31 30 29 28 27 26\n",
      " 25 24 23 22 21 20 19 18 17 16 15 14 13 12 11 10  9  8  7  6  5  4  3  2\n",
      "  1  0]\n",
      "[49 48 47 46 45 44 43 42 41 40 39 38 37 36 35 34 33 32 31 30 29 28 27 26\n",
      " 25 24 23 22 21 20 19 18 17 16 15 14 13 12 11 10  9  8  7  6  5  4  3  2\n",
      "  1  0]\n"
     ]
    }
   ],
   "source": [
    "Z2 = np.arange(50) \n",
    "\n",
    "# provide your answer here\n",
    "# using negative indexing\n",
    "Z_reverse = Z2[::-1]\n",
    "# Using np.flip method\n",
    "Z_flip = np.flip(Z2)\n",
    "print( Z_reverse )\n",
    "print( Z_flip )"
   ]
  },
  {
   "cell_type": "markdown",
   "metadata": {},
   "source": [
    "1-4 Create a 10x10 array `Z3` with random values (use the `random` function). Then find the minimum and maximum values (use the `.min` and `.max` function)"
   ]
  },
  {
   "cell_type": "code",
   "execution_count": 15,
   "metadata": {},
   "outputs": [
    {
     "name": "stdout",
     "output_type": "stream",
     "text": [
      "0.010374153885699955 0.9833592482243325\n"
     ]
    }
   ],
   "source": [
    "np.random.seed(9) #with seed i can reproduce your results\n",
    "\n",
    "# Create a 10x10 array called 'Z3'\n",
    "# provide your answer here \n",
    "Z3 = np.random.rand(10,10)\n",
    "# find the minimum and maximum values call Z3min and Z3max\n",
    "# provide your answer here \n",
    "Z3min = Z3.min()\n",
    "Z3max = Z3.max()\n",
    "print(Z3min, Z3max) "
   ]
  },
  {
   "cell_type": "markdown",
   "metadata": {},
   "source": [
    "1-5. Find common values between two provided arrays below. Hint: may consider using `intersect1d()` function (As a bouns, the counterpart is setdiff1d())"
   ]
  },
  {
   "cell_type": "code",
   "execution_count": 17,
   "metadata": {},
   "outputs": [
    {
     "name": "stdout",
     "output_type": "stream",
     "text": [
      "[3 6 5 4 8 9 1 7 9 6]\n",
      "[8 0 5 0 9 6 2 0 5 2]\n"
     ]
    }
   ],
   "source": [
    "np.random.seed(1234)\n",
    "Z41 = np.random.randint(0,10,10) #notice that some of elements could be the same\n",
    "Z42 = np.random.randint(0,10,10) \n",
    "print(Z41)\n",
    "print(Z42)"
   ]
  },
  {
   "cell_type": "code",
   "execution_count": 25,
   "metadata": {},
   "outputs": [
    {
     "name": "stdout",
     "output_type": "stream",
     "text": [
      "The non-common elements are:  [1 3 4 7]\n",
      "The common elements are:  [5 6 8 9]\n"
     ]
    }
   ],
   "source": [
    "# provide your answer here \n",
    "print('The non-common elements are: ',np.setdiff1d( Z41, Z42 ))\n",
    "print('The common elements are: ',np.intersect1d( Z41, Z42 ))"
   ]
  },
  {
   "cell_type": "markdown",
   "metadata": {},
   "source": [
    "## Problem 2: \n",
    "\n",
    "Create a set of 1000 points that follow the function and add Gaussian white noise ($\\epsilon$) to the result.   \n",
    "$$f(x) = 0.5x + 1 +\\epsilon$$ \n",
    "(1 point)  \n",
    "Hint: using the `np.random.randn` function to create the Gaussian white noise ($\\epsilon$)"
   ]
  },
  {
   "cell_type": "code",
   "execution_count": 53,
   "metadata": {},
   "outputs": [
    {
     "data": {
      "text/plain": [
       "[<matplotlib.lines.Line2D at 0x1a5082bd608>]"
      ]
     },
     "execution_count": 53,
     "metadata": {},
     "output_type": "execute_result"
    },
    {
     "data": {
      "image/png": "[encoded data removed]",
      "text/plain": [
       "<Figure size 432x288 with 1 Axes>"
      ]
     },
     "metadata": {
      "needs_background": "light"
     },
     "output_type": "display_data"
    }
   ],
   "source": [
    "X = np.linspace(1,10,1000) #create an array with a size of 1000 from 1 to 10,   \n",
    "\n",
    "def f(x):\n",
    "    np.random.seed(1234)\n",
    "    return 0.5*x + 1 + np.random.randn(1000)\n",
    "\n",
    "\n",
    "y = f(X)\n",
    "\n",
    "import matplotlib.pyplot as plt\n",
    "plt.plot(y)"
   ]
  },
  {
   "cell_type": "markdown",
   "metadata": {},
   "source": [
    "## Problem 3 Reshape an array\n",
    "(1 points)"
   ]
  },
  {
   "cell_type": "markdown",
   "metadata": {},
   "source": [
    "Given the following integer array from a range between 100 to 200 with a step of 10. Reshape to the following 5X2 dimention array.\n",
    "\n",
    "`[[100 110]  \n",
    " [120 130]  \n",
    " [140 150]  \n",
    " [160 170]  \n",
    " [180 190]]  `\n",
    " \n",
    "Complete the codes as indicated, to print numpy array attributes (use function and dynamic coding. Hard coded answer will NOT receive credit)\n",
    "1. Length of each element of array in bytes is:  4 \n",
    "2. Array Shape is:  **(5, 2)**  #5 rows and 2 columns, \n",
    "3. Array dimensions are:  **2**  #the ndim is 2\n",
    "4. The datatype of the array is: **int32** or **int64** (32bit or 64bit dpending on the anaconda version)\n",
    "\n",
    "hint: consider using `arange` (code already provided) together with `reshape` function. `arange` can be used to create 10X1 array then use `reshape` to conver to 5X2 array. Use print function to print the above message"
   ]
  },
  {
   "cell_type": "code",
   "execution_count": 59,
   "metadata": {},
   "outputs": [
    {
     "name": "stdout",
     "output_type": "stream",
     "text": [
      "Creating 5X2 array using numpy.arange\n",
      "Printing Array\n",
      "[[100 110]\n",
      " [120 130]\n",
      " [140 150]\n",
      " [160 170]\n",
      " [180 190]]\n",
      "Printing numpy array Attributes\n",
      "1. Length of each element of array in bytes is:  4\n",
      "2. Array Shape is:  (5, 2)\n",
      "3. Array dimensions are:  2\n",
      "4. The datatype of the array is:  int32\n"
     ]
    }
   ],
   "source": [
    "print(\"Creating 5X2 array using numpy.arange\")\n",
    "\n",
    "sampleArray = np.arange(100, 200, 10)\n",
    "sampleArray = sampleArray.reshape(5,2) # provide your answer here \n",
    "\n",
    "print(\"Printing Array\")\n",
    "print(sampleArray)\n",
    "print(\"Printing numpy array Attributes\")\n",
    "print(\"1. Length of each element of array in bytes is: \", sampleArray.itemsize) # answer already provided, as example of dynamic coding\n",
    "\n",
    "# provide your answer as indicated below\n",
    "print(\"2. Array Shape is: \", sampleArray.shape ) # provide your answer here to complete the \"print\" code)\n",
    "print(\"3. Array dimensions are: \", sampleArray.ndim ) # provide your answer here to complete the \"print\" code)\n",
    "print(\"4. The datatype of the array is: \", sampleArray.dtype) # provide your answer here to complete the \"print\" code)\n",
    "      \n",
    "#The expect answers are \n",
    "# Creating 5X2 array using numpy.arange\n",
    "# Printing Array\n",
    "# [[100 110]\n",
    "#  [120 130]\n",
    "#  [140 150]\n",
    "#  [160 170]\n",
    "#  [180 190]]\n",
    "# Printing numpy array Attributes\n",
    "# 1. Length of each element of array in bytes is:  4\n",
    "# 2. Array Shape is:  (5, 2)\n",
    "# 3. Array dimensions are:  2\n",
    "# 4. The datatype of the array is:  <class 'numpy.ndarray'>"
   ]
  },
  {
   "cell_type": "markdown",
   "metadata": {},
   "source": [
    "## Problem 4 Numpy Indexing\n",
    "(1.5 points, each with 0.5 point)"
   ]
  },
  {
   "cell_type": "markdown",
   "metadata": {},
   "source": [
    "**4-1** Return array of odd rows (every other row starting from row 2 or index of 1) from the following numpy array   \n",
    "Your answer should be something like below  \n",
    "`array([[ 3, 36, 49, 12],  \n",
    "       [27, 30, 33, 36],  \n",
    "       [51, 24, 57, 20]])`"
   ]
  },
  {
   "cell_type": "code",
   "execution_count": 60,
   "metadata": {},
   "outputs": [
    {
     "data": {
      "text/plain": [
       "array([[ 3, 36, 49, 12],\n",
       "       [15, 18, 21, 24],\n",
       "       [27, 30, 33, 36],\n",
       "       [39, 42, 45, 48],\n",
       "       [51, 24, 57, 20]])"
      ]
     },
     "execution_count": 60,
     "metadata": {},
     "output_type": "execute_result"
    }
   ],
   "source": [
    "Array_1 = np.array([[3 ,36, 49, 12], [15 ,18, 21, 24], \n",
    "                    [27 ,30, 33, 36], [39 ,42, 45, 48], \n",
    "                    [51 ,24, 57, 20]]) \n",
    "Array_1"
   ]
  },
  {
   "cell_type": "code",
   "execution_count": 62,
   "metadata": {},
   "outputs": [
    {
     "name": "stdout",
     "output_type": "stream",
     "text": [
      "[[15 18 21 24]\n",
      " [39 42 45 48]]\n"
     ]
    }
   ],
   "source": [
    "# provide your answer here\n",
    "newArray = Array_1[np.array([False, True, False, True, False]),:]\n",
    "print(newArray)\n",
    "\n",
    "#the expected answer is\n",
    "# [[15 18 21 24]\n",
    "# [39 42 45 48]]"
   ]
  },
  {
   "cell_type": "markdown",
   "metadata": {},
   "source": [
    "**4-2** Print max from each column and min from each row from the above numpy array `Array_1`.  \n",
    "hint: you may use \"amax\" and \"amin\" function with selected axis. The answer should be `array([51, 42, 57, 48])` and `array([ 3, 15, 27, 39, 20])`, seperately"
   ]
  },
  {
   "cell_type": "code",
   "execution_count": 39,
   "metadata": {},
   "outputs": [
    {
     "data": {
      "text/plain": [
       "array([49, 24, 36, 48, 57])"
      ]
     },
     "execution_count": 39,
     "metadata": {},
     "output_type": "execute_result"
    }
   ],
   "source": [
    "#e.g. the column with maximal column sum is \n",
    "np.amax(Array_1, axis = 1)"
   ]
  },
  {
   "cell_type": "code",
   "execution_count": 64,
   "metadata": {},
   "outputs": [
    {
     "data": {
      "text/plain": [
       "array([51, 42, 57, 48])"
      ]
     },
     "execution_count": 64,
     "metadata": {},
     "output_type": "execute_result"
    }
   ],
   "source": [
    "# provide your answer here\n",
    "np.amax(Array_1, axis = 0 )"
   ]
  },
  {
   "cell_type": "code",
   "execution_count": 65,
   "metadata": {},
   "outputs": [
    {
     "data": {
      "text/plain": [
       "array([ 3, 15, 27, 39, 20])"
      ]
     },
     "execution_count": 65,
     "metadata": {},
     "output_type": "execute_result"
    }
   ],
   "source": [
    "# provide your answer here\n",
    "np.amin(Array_1, axis = 1 )"
   ]
  },
  {
   "cell_type": "markdown",
   "metadata": {},
   "source": [
    "**4-3** Replace the **second** column from the above numpy array `Array_1` with following new column.   \n",
    "New column were provided as `new_column`. Print the new array"
   ]
  },
  {
   "cell_type": "code",
   "execution_count": 72,
   "metadata": {},
   "outputs": [
    {
     "name": "stdout",
     "output_type": "stream",
     "text": [
      "[[ 3  1 49 12]\n",
      " [15  2 21 24]\n",
      " [27  3 33 36]\n",
      " [39  4 45 48]\n",
      " [51  5 57 20]]\n"
     ]
    }
   ],
   "source": [
    "new_column = [1,2,3,4,5]\n",
    "new_array = Array_1.copy()\n",
    "# provide your answer here\n",
    "new_array[:,1] = new_column\n",
    "print(new_array)"
   ]
  },
  {
   "cell_type": "markdown",
   "metadata": {},
   "source": [
    "## Problem 5 Stacking & concatenation\n",
    "(1 point)"
   ]
  },
  {
   "cell_type": "code",
   "execution_count": 73,
   "metadata": {},
   "outputs": [],
   "source": [
    "a = np.array([[1, 2], [3, 4]])\n",
    "b = np.array([[5, 6]])"
   ]
  },
  {
   "cell_type": "markdown",
   "metadata": {},
   "source": [
    "Given the arrays above, use at least **TWO** differnt methods to **vertical** stack array `a` and `b`.  \n",
    "hint: the possible functions could be used are: `concatenate`, `vstack`, `append`, `insert` etc.  \n",
    "hint2: do not forget `axis = 0 or 1` option"
   ]
  },
  {
   "cell_type": "code",
   "execution_count": 107,
   "metadata": {},
   "outputs": [
    {
     "name": "stdout",
     "output_type": "stream",
     "text": [
      "[[1 2]\n",
      " [3 4]\n",
      " [5 6]]\n",
      "[[1 2]\n",
      " [3 4]\n",
      " [5 6]]\n",
      "[[1 2]\n",
      " [3 4]\n",
      " [5 6]]\n",
      "[[1 2]\n",
      " [3 4]\n",
      " [5 6]]\n"
     ]
    }
   ],
   "source": [
    "# provide your answer here\n",
    "print( np.concatenate((a,b), axis = 0))\n",
    "print( np.vstack((a, b)))\n",
    "print( np.append(a,b, axis = 0 ))\n",
    "print( np.insert(a,2,b, axis = 0 ))"
   ]
  },
  {
   "cell_type": "markdown",
   "metadata": {},
   "source": [
    "Given the arrays above, use at least **TWO** differnt methods to **horizontal** stack array `a` and `b`. \n",
    "\n",
    "hint: the functions can be used are: `concatenate`, `hstack`, `append`, `insert`, etc., make sure you have same dimension in the axis before merge them together, if not use .T to transform the array before merge"
   ]
  },
  {
   "cell_type": "code",
   "execution_count": 110,
   "metadata": {},
   "outputs": [
    {
     "name": "stdout",
     "output_type": "stream",
     "text": [
      "[[1 2 5]\n",
      " [3 4 6]]\n",
      "[[1 2 5]\n",
      " [3 4 6]]\n",
      "[[1 2 5]\n",
      " [3 4 6]]\n",
      "[[1 2 5]\n",
      " [3 4 6]]\n"
     ]
    }
   ],
   "source": [
    "# provide your answer here\n",
    "print( np.concatenate((a,b.T), axis = 1))\n",
    "print( np.hstack((a, b.T)))\n",
    "print( np.append(a,b.T, axis = 1 ))\n",
    "print( np.insert(a,2,b, axis = 1 ))"
   ]
  },
  {
   "cell_type": "code",
   "execution_count": null,
   "metadata": {},
   "outputs": [],
   "source": []
  }
 ],
 "metadata": {
  "kernelspec": {
   "display_name": "Python 3",
   "language": "python",
   "name": "python3"
  },
  "language_info": {
   "codemirror_mode": {
    "name": "ipython",
    "version": 3
   },
   "file_extension": ".py",
   "mimetype": "text/x-python",
   "name": "python",
   "nbconvert_exporter": "python",
   "pygments_lexer": "ipython3",
   "version": "3.7.6"
  }
 },
 "nbformat": 4,
 "nbformat_minor": 1
}
